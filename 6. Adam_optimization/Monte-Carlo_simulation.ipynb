{
 "cells": [
  {
   "cell_type": "markdown",
   "metadata": {},
   "source": [
    "## 1. Coin tossing problem"
   ]
  },
  {
   "cell_type": "code",
   "execution_count": 1,
   "metadata": {},
   "outputs": [],
   "source": [
    "from random import randint"
   ]
  },
  {
   "cell_type": "code",
   "execution_count": 2,
   "metadata": {},
   "outputs": [],
   "source": [
    "success = 0\n",
    "\n",
    "attempts = 10000\n",
    "for i in range(attempts):\n",
    "    if randint(0,1)+randint(0,1)+randint(0,1)+randint(0,1) == 3:\n",
    "        success +=1        "
   ]
  },
  {
   "cell_type": "code",
   "execution_count": 3,
   "metadata": {},
   "outputs": [
    {
     "name": "stdout",
     "output_type": "stream",
     "text": [
      "Number of attempts : 10000\n",
      "Number of success : 2575\n"
     ]
    }
   ],
   "source": [
    "print(\"Number of attempts :\", attempts)\n",
    "print(\"Number of success :\", success)"
   ]
  },
  {
   "cell_type": "markdown",
   "metadata": {},
   "source": [
    "## 2. Kinetic Monte-Carlo Simulation"
   ]
  },
  {
   "cell_type": "code",
   "execution_count": 6,
   "metadata": {},
   "outputs": [],
   "source": [
    "import random\n",
    "import numpy as np"
   ]
  },
  {
   "cell_type": "code",
   "execution_count": 36,
   "metadata": {},
   "outputs": [
    {
     "name": "stdout",
     "output_type": "stream",
     "text": [
      "500 500\n",
      "501 499\n",
      "502 498\n",
      "503 497\n",
      "504 496\n",
      "505 495\n",
      "506 494\n",
      "507 493\n",
      "508 492\n",
      "507 493\n",
      "506 494\n",
      "507 493\n",
      "506 494\n",
      "507 493\n",
      "508 492\n",
      "509 491\n",
      "510 490\n"
     ]
    }
   ],
   "source": [
    "k1 = 0.5\n",
    "k2 = 0.8\n",
    "dt = 0.02\n",
    "A = 499\n",
    "B = 501\n",
    "N = A + B\n",
    "A_total = []\n",
    "B_total = []\n",
    "# tmax = 50\n",
    "\n",
    "randomlist = np.random.rand(10000)\n",
    "randomlist = randomlist.tolist()\n",
    "\n",
    "for i in range(0,N):\n",
    "    # pop takes and removes the element\n",
    "    if randomlist.pop(0) < A/N:\n",
    "        # the two criteria for the Monte Carlo model.\n",
    "        if randomlist.pop(0) < k1*dt:\n",
    "            A -=1\n",
    "            B +=1\n",
    "            print(A,B)\n",
    "            \n",
    "    else:\n",
    "        if randomlist.pop(0) < k2*dt:\n",
    "            A +=1\n",
    "            B -=1\n",
    "            print(A,B)"
   ]
  }
 ],
 "metadata": {
  "kernelspec": {
   "display_name": "Python 3",
   "language": "python",
   "name": "python3"
  },
  "language_info": {
   "codemirror_mode": {
    "name": "ipython",
    "version": 3
   },
   "file_extension": ".py",
   "mimetype": "text/x-python",
   "name": "python",
   "nbconvert_exporter": "python",
   "pygments_lexer": "ipython3",
   "version": "3.8.8"
  }
 },
 "nbformat": 4,
 "nbformat_minor": 4
}
